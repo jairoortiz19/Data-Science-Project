{
  "metadata": {
    "kernelspec": {
      "name": "python",
      "display_name": "Python (Pyodide)",
      "language": "python"
    },
    "language_info": {
      "codemirror_mode": {
        "name": "python",
        "version": 3
      },
      "file_extension": ".py",
      "mimetype": "text/x-python",
      "name": "python",
      "nbconvert_exporter": "python",
      "pygments_lexer": "ipython3",
      "version": "3.8"
    }
  },
  "nbformat_minor": 4,
  "nbformat": 4,
  "cells": [
    {
      "cell_type": "markdown",
      "source": "# Final Data Science Project\n",
      "metadata": {}
    },
    {
      "cell_type": "markdown",
      "source": "## Introduction\n\nThis notebook aims to provide basic examples of how to work with data, perform simple calculations, and use libraries for data visualization in data science.\n",
      "metadata": {}
    },
    {
      "cell_type": "markdown",
      "source": "## Data Science Languages\n\n- Python\n- R\n- SQL\n- Julia\n- Scala\n",
      "metadata": {}
    },
    {
      "cell_type": "markdown",
      "source": "## Data Science Libraries\n\n- **Python:**\n  - Pandas\n  - NumPy\n  - Matplotlib\n  - Seaborn\n  - Scikit-learn\n\n- **R:**\n  - dplyr\n  - ggplot2\n  - tidyr\n  - caret\n  - shiny\n",
      "metadata": {}
    },
    {
      "cell_type": "markdown",
      "source": "## Data Science Tools Table\n\n| Tool            | Description                                      |\n|-----------------|--------------------------------------------------|\n| JupyterLab      | Interactive environment for data development    |\n| RStudio         | IDE for the R programming language               |\n| Tableau         | Data visualization tool                          |\n| Apache Spark    | Platform for processing large volumes of data   |\n",
      "metadata": {}
    },
    {
      "cell_type": "markdown",
      "source": "## Examples of Arithmetic Expressions\n\n- Addition: `3 + 5` = 8\n- Subtraction: `10 - 4` = 6\n- Multiplication: `7 * 3` = 21\n- Division: `20 / 4` = 5\n",
      "metadata": {}
    },
    {
      "cell_type": "code",
      "source": "# Code to multiply and add numbers\n\na = 5\nb = 3\n\nmultiplication = a * b\naddition = a + b\n\nmultiplication, addition\n",
      "metadata": {
        "trusted": true
      },
      "outputs": [
        {
          "execution_count": 4,
          "output_type": "execute_result",
          "data": {
            "text/plain": "(15, 8)"
          },
          "metadata": {}
        }
      ],
      "execution_count": 4
    },
    {
      "cell_type": "code",
      "source": "# Code to convert minutes to hours\n\ndef minutes_to_hours(minutes):\n    hours = minutes / 60\n    return hours\n\nminutes_to_hours(120)\n",
      "metadata": {
        "trusted": true
      },
      "outputs": [
        {
          "execution_count": 2,
          "output_type": "execute_result",
          "data": {
            "text/plain": "2.0"
          },
          "metadata": {}
        }
      ],
      "execution_count": 2
    },
    {
      "cell_type": "code",
      "source": "# Code to list objectives\n\nobjectives = [\"Learn Python\", \"Perform data analysis\", \"Create visualizations\"]\nfor objective in objectives:\n    print(objective)\n",
      "metadata": {
        "trusted": true
      },
      "outputs": [
        {
          "name": "stdout",
          "text": "Learn Python\nPerform data analysis\nCreate visualizations\n",
          "output_type": "stream"
        }
      ],
      "execution_count": 3
    },
    {
      "cell_type": "markdown",
      "source": "## Author\n\n**Jairo Ortiz**\n",
      "metadata": {}
    },
    {
      "cell_type": "code",
      "source": "",
      "metadata": {
        "trusted": true
      },
      "outputs": [],
      "execution_count": null
    }
  ]
}